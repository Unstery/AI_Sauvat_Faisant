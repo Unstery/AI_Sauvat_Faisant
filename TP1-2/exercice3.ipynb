{
 "cells": [
  {
   "cell_type": "markdown",
   "metadata": {},
   "source": [
    "AI - TP1_2\n",
    "\n",
    "Bastien SAUVAT et Bastien FAISANT\n",
    "\n",
    "# Exercise 3 : Text classification on the Ohsumed dataset\n",
    "\n",
    "*Objective : The goal of this exercise is to realize a text classifier using deep neural networks. Your task\n",
    "is to construct a classifier, using the available training set, and evaluate it using the test set. The classifier\n",
    "should predict the category for the articles.*"
   ]
  },
  {
   "cell_type": "code",
   "execution_count": null,
   "metadata": {},
   "outputs": [],
   "source": []
  }
 ],
 "metadata": {
  "language_info": {
   "name": "python"
  }
 },
 "nbformat": 4,
 "nbformat_minor": 2
}
